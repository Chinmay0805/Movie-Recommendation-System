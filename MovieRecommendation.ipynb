{
 "cells": [
  {
   "cell_type": "code",
   "execution_count": 1,
   "id": "0f72f59f-1cb3-42c1-8af5-c9775d51581e",
   "metadata": {},
   "outputs": [],
   "source": [
    "import pandas as pd\n",
    "import numpy as np\n",
    "from sklearn.feature_extraction.text import TfidfVectorizer\n",
    "from sklearn.metrics.pairwise import cosine_similarity\n",
    "from sklearn.model_selection import train_test_split\n",
    "from keras.models import Model\n",
    "from keras.layers import Input, Embedding, Dot, Flatten, Dense\n"
   ]
  },
  {
   "cell_type": "code",
   "execution_count": 4,
   "id": "1f062f8e-8435-4b07-ad67-c247f4a022a0",
   "metadata": {},
   "outputs": [],
   "source": [
    "movies = pd.read_csv('movies.csv')\n",
    "ratings = pd.read_csv('ratings.csv')"
   ]
  },
  {
   "cell_type": "code",
   "execution_count": 6,
   "id": "ebd631b3-4964-4333-86e9-e580b9d2a55e",
   "metadata": {},
   "outputs": [
    {
     "data": {
      "text/html": [
       "<div>\n",
       "<style scoped>\n",
       "    .dataframe tbody tr th:only-of-type {\n",
       "        vertical-align: middle;\n",
       "    }\n",
       "\n",
       "    .dataframe tbody tr th {\n",
       "        vertical-align: top;\n",
       "    }\n",
       "\n",
       "    .dataframe thead th {\n",
       "        text-align: right;\n",
       "    }\n",
       "</style>\n",
       "<table border=\"1\" class=\"dataframe\">\n",
       "  <thead>\n",
       "    <tr style=\"text-align: right;\">\n",
       "      <th></th>\n",
       "      <th>userId</th>\n",
       "      <th>movieId</th>\n",
       "      <th>rating</th>\n",
       "      <th>title</th>\n",
       "      <th>genres</th>\n",
       "    </tr>\n",
       "  </thead>\n",
       "  <tbody>\n",
       "    <tr>\n",
       "      <th>0</th>\n",
       "      <td>1</td>\n",
       "      <td>1</td>\n",
       "      <td>4.0</td>\n",
       "      <td>Toy Story (1995)</td>\n",
       "      <td>Adventure|Animation|Children|Comedy|Fantasy</td>\n",
       "    </tr>\n",
       "    <tr>\n",
       "      <th>1</th>\n",
       "      <td>1</td>\n",
       "      <td>3</td>\n",
       "      <td>4.0</td>\n",
       "      <td>Grumpier Old Men (1995)</td>\n",
       "      <td>Comedy|Romance</td>\n",
       "    </tr>\n",
       "    <tr>\n",
       "      <th>2</th>\n",
       "      <td>1</td>\n",
       "      <td>6</td>\n",
       "      <td>4.0</td>\n",
       "      <td>Heat (1995)</td>\n",
       "      <td>Action|Crime|Thriller</td>\n",
       "    </tr>\n",
       "    <tr>\n",
       "      <th>3</th>\n",
       "      <td>1</td>\n",
       "      <td>47</td>\n",
       "      <td>5.0</td>\n",
       "      <td>Seven (a.k.a. Se7en) (1995)</td>\n",
       "      <td>Mystery|Thriller</td>\n",
       "    </tr>\n",
       "    <tr>\n",
       "      <th>4</th>\n",
       "      <td>1</td>\n",
       "      <td>50</td>\n",
       "      <td>5.0</td>\n",
       "      <td>Usual Suspects, The (1995)</td>\n",
       "      <td>Crime|Mystery|Thriller</td>\n",
       "    </tr>\n",
       "  </tbody>\n",
       "</table>\n",
       "</div>"
      ],
      "text/plain": [
       "   userId  movieId  rating                        title  \\\n",
       "0       1        1     4.0             Toy Story (1995)   \n",
       "1       1        3     4.0      Grumpier Old Men (1995)   \n",
       "2       1        6     4.0                  Heat (1995)   \n",
       "3       1       47     5.0  Seven (a.k.a. Se7en) (1995)   \n",
       "4       1       50     5.0   Usual Suspects, The (1995)   \n",
       "\n",
       "                                        genres  \n",
       "0  Adventure|Animation|Children|Comedy|Fantasy  \n",
       "1                               Comedy|Romance  \n",
       "2                        Action|Crime|Thriller  \n",
       "3                             Mystery|Thriller  \n",
       "4                       Crime|Mystery|Thriller  "
      ]
     },
     "execution_count": 6,
     "metadata": {},
     "output_type": "execute_result"
    }
   ],
   "source": [
    "df = ratings.merge(movies, on='movieId')\n",
    "df = df[['userId', 'movieId', 'rating', 'title', 'genres']]\n",
    "df.dropna(inplace=True)\n",
    "df.head()"
   ]
  },
  {
   "cell_type": "code",
   "execution_count": 8,
   "id": "a74071c0-8027-49a9-90c0-80724a2951d3",
   "metadata": {},
   "outputs": [],
   "source": [
    "tfidf = TfidfVectorizer(stop_words='english')\n",
    "tfidf_matrix = tfidf.fit_transform(movies['genres'].fillna(''))\n"
   ]
  },
  {
   "cell_type": "code",
   "execution_count": 10,
   "id": "608784cd-726e-4572-93c8-c2b22fc42126",
   "metadata": {},
   "outputs": [],
   "source": [
    "cosine_sim = cosine_similarity(tfidf_matrix, tfidf_matrix)\n"
   ]
  },
  {
   "cell_type": "code",
   "execution_count": 12,
   "id": "71a1ddc7-9379-44c5-b033-e636799684ed",
   "metadata": {},
   "outputs": [],
   "source": [
    "def recommend_movies(title, cosine_sim=cosine_sim):\n",
    "    idx = movies.loc[movies['title'] == title].index[0]\n",
    "    sim_scores = list(enumerate(cosine_sim[idx]))\n",
    "    sim_scores = sorted(sim_scores, key=lambda x: x[1], reverse=True)\n",
    "    sim_scores = sim_scores[1:11]\n",
    "    movie_indices = [i[0] for i in sim_scores]\n",
    "    return movies['title'].iloc[movie_indices]\n"
   ]
  },
  {
   "cell_type": "code",
   "execution_count": 14,
   "id": "0508dccc-f5a3-41d2-93d6-921940584c61",
   "metadata": {},
   "outputs": [],
   "source": [
    "user_ids = df['userId'].unique().tolist()\n",
    "movie_ids = df['movieId'].unique().tolist()\n",
    "\n",
    "user_to_index = {user_id: i for i, user_id in enumerate(user_ids)}\n",
    "movie_to_index = {movie_id: i for i, movie_id in enumerate(movie_ids)}\n",
    "\n",
    "df['user'] = df['userId'].map(user_to_index)\n",
    "df['movie'] = df['movieId'].map(movie_to_index)\n"
   ]
  },
  {
   "cell_type": "code",
   "execution_count": 16,
   "id": "9a023c73-50fb-416e-8665-35dc46a8ad58",
   "metadata": {},
   "outputs": [],
   "source": [
    "num_users = len(user_ids)\n",
    "num_movies = len(movie_ids)\n",
    "\n",
    "# User input layer\n",
    "user_input = Input(shape=(1,))\n",
    "user_embedding = Embedding(num_users, 50)(user_input)\n",
    "user_vec = Flatten()(user_embedding)\n",
    "\n",
    "# Movie input layer\n",
    "movie_input = Input(shape=(1,))\n",
    "movie_embedding = Embedding(num_movies, 50)(movie_input)\n",
    "movie_vec = Flatten()(movie_embedding)\n",
    "\n",
    "# Dot product of user and movie vectors\n",
    "dot_product = Dot(axes=1)([user_vec, movie_vec])\n",
    "\n",
    "# Output layer\n",
    "output = Dense(1)(dot_product)\n",
    "\n",
    "# Build and compile model\n",
    "model = Model([user_input, movie_input], output)\n",
    "model.compile(optimizer='adam', loss='mean_squared_error')\n"
   ]
  },
  {
   "cell_type": "code",
   "execution_count": 18,
   "id": "c452d8f7-ddd8-4c4f-ac05-879a5d70db2c",
   "metadata": {},
   "outputs": [],
   "source": [
    "X = df[['user', 'movie']]\n",
    "y = df['rating']\n",
    "\n",
    "X_train, X_test, y_train, y_test = train_test_split(X, y, test_size=0.2, random_state=42)\n"
   ]
  },
  {
   "cell_type": "code",
   "execution_count": 20,
   "id": "eef21269-e4e8-4886-acd4-4e9e2c41b280",
   "metadata": {},
   "outputs": [
    {
     "name": "stdout",
     "output_type": "stream",
     "text": [
      "Epoch 1/10\n",
      "\u001b[1m1135/1135\u001b[0m \u001b[32m━━━━━━━━━━━━━━━━━━━━\u001b[0m\u001b[37m\u001b[0m \u001b[1m16s\u001b[0m 10ms/step - loss: 10.8881 - val_loss: 1.9408\n",
      "Epoch 2/10\n",
      "\u001b[1m1135/1135\u001b[0m \u001b[32m━━━━━━━━━━━━━━━━━━━━\u001b[0m\u001b[37m\u001b[0m \u001b[1m13s\u001b[0m 12ms/step - loss: 1.3610 - val_loss: 1.1740\n",
      "Epoch 3/10\n",
      "\u001b[1m1135/1135\u001b[0m \u001b[32m━━━━━━━━━━━━━━━━━━━━\u001b[0m\u001b[37m\u001b[0m \u001b[1m14s\u001b[0m 12ms/step - loss: 0.7649 - val_loss: 1.0652\n",
      "Epoch 4/10\n",
      "\u001b[1m1135/1135\u001b[0m \u001b[32m━━━━━━━━━━━━━━━━━━━━\u001b[0m\u001b[37m\u001b[0m \u001b[1m13s\u001b[0m 12ms/step - loss: 0.5634 - val_loss: 1.0492\n",
      "Epoch 5/10\n",
      "\u001b[1m1135/1135\u001b[0m \u001b[32m━━━━━━━━━━━━━━━━━━━━\u001b[0m\u001b[37m\u001b[0m \u001b[1m18s\u001b[0m 16ms/step - loss: 0.4262 - val_loss: 1.0643\n",
      "Epoch 6/10\n",
      "\u001b[1m1135/1135\u001b[0m \u001b[32m━━━━━━━━━━━━━━━━━━━━\u001b[0m\u001b[37m\u001b[0m \u001b[1m14s\u001b[0m 12ms/step - loss: 0.3192 - val_loss: 1.0875\n",
      "Epoch 7/10\n",
      "\u001b[1m1135/1135\u001b[0m \u001b[32m━━━━━━━━━━━━━━━━━━━━\u001b[0m\u001b[37m\u001b[0m \u001b[1m14s\u001b[0m 13ms/step - loss: 0.2416 - val_loss: 1.1169\n",
      "Epoch 8/10\n",
      "\u001b[1m1135/1135\u001b[0m \u001b[32m━━━━━━━━━━━━━━━━━━━━\u001b[0m\u001b[37m\u001b[0m \u001b[1m14s\u001b[0m 12ms/step - loss: 0.1867 - val_loss: 1.1265\n",
      "Epoch 9/10\n",
      "\u001b[1m1135/1135\u001b[0m \u001b[32m━━━━━━━━━━━━━━━━━━━━\u001b[0m\u001b[37m\u001b[0m \u001b[1m12s\u001b[0m 11ms/step - loss: 0.1463 - val_loss: 1.1398\n",
      "Epoch 10/10\n",
      "\u001b[1m1135/1135\u001b[0m \u001b[32m━━━━━━━━━━━━━━━━━━━━\u001b[0m\u001b[37m\u001b[0m \u001b[1m15s\u001b[0m 13ms/step - loss: 0.1166 - val_loss: 1.1450\n"
     ]
    }
   ],
   "source": [
    "history = model.fit(\n",
    "    [X_train['user'], X_train['movie']],\n",
    "    y_train,\n",
    "    batch_size=64,\n",
    "    epochs=10,\n",
    "    validation_split=0.1\n",
    ")\n"
   ]
  },
  {
   "cell_type": "code",
   "execution_count": 22,
   "id": "de6aa0c9-4269-46df-b2f8-a42708a189b6",
   "metadata": {},
   "outputs": [
    {
     "name": "stdout",
     "output_type": "stream",
     "text": [
      "\u001b[1m631/631\u001b[0m \u001b[32m━━━━━━━━━━━━━━━━━━━━\u001b[0m\u001b[37m\u001b[0m \u001b[1m1s\u001b[0m 2ms/step - loss: 1.1279\n",
      "Test Loss: 1.1320723295211792\n"
     ]
    }
   ],
   "source": [
    "loss = model.evaluate([X_test['user'], X_test['movie']], y_test)\n",
    "print(f'Test Loss: {loss}')\n"
   ]
  },
  {
   "cell_type": "code",
   "execution_count": 24,
   "id": "2771559a-e45c-4864-b41b-a1fd98f37ce1",
   "metadata": {},
   "outputs": [],
   "source": [
    "def recommend_for_user(user_id, num_recommendations=10):\n",
    "    user_index = user_to_index[user_id]\n",
    "    movie_indices = np.array(list(movie_to_index.values()))\n",
    "    predicted_ratings = model.predict([np.full_like(movie_indices, user_index), movie_indices]).flatten()\n",
    "    recommended_movie_indices = np.argsort(predicted_ratings)[-num_recommendations:][::-1]\n",
    "    recommended_movies = [movies.iloc[i]['title'] for i in recommended_movie_indices]\n",
    "    return recommended_movies\n"
   ]
  },
  {
   "cell_type": "code",
   "execution_count": 36,
   "id": "1c041c68-81d7-428e-aaad-31a10b61d5f9",
   "metadata": {},
   "outputs": [
    {
     "name": "stdout",
     "output_type": "stream",
     "text": [
      "\u001b[1m304/304\u001b[0m \u001b[32m━━━━━━━━━━━━━━━━━━━━\u001b[0m\u001b[37m\u001b[0m \u001b[1m1s\u001b[0m 2ms/step\n"
     ]
    },
    {
     "data": {
      "text/plain": [
       "['Right Stuff, The (1983)',\n",
       " 'Emma (1996)',\n",
       " 'Mediterraneo (1991)',\n",
       " 'Dead Poets Society (1989)',\n",
       " 'Skipped Parts (2000)',\n",
       " 'Firewalker (1986)',\n",
       " 'Fried Green Tomatoes (1991)',\n",
       " 'Sting, The (1973)',\n",
       " 'Army of Darkness (1993)',\n",
       " 'My Left Foot (1989)']"
      ]
     },
     "execution_count": 36,
     "metadata": {},
     "output_type": "execute_result"
    }
   ],
   "source": [
    "recommend_for_user(10)\n"
   ]
  },
  {
   "cell_type": "code",
   "execution_count": null,
   "id": "329d3df0-72fe-4ea1-a555-81bd9a60b377",
   "metadata": {},
   "outputs": [],
   "source": []
  }
 ],
 "metadata": {
  "kernelspec": {
   "display_name": "Python [conda env:base] *",
   "language": "python",
   "name": "conda-base-py"
  },
  "language_info": {
   "codemirror_mode": {
    "name": "ipython",
    "version": 3
   },
   "file_extension": ".py",
   "mimetype": "text/x-python",
   "name": "python",
   "nbconvert_exporter": "python",
   "pygments_lexer": "ipython3",
   "version": "3.12.3"
  }
 },
 "nbformat": 4,
 "nbformat_minor": 5
}
